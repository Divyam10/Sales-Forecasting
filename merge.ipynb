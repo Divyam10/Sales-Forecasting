{
 "cells": [
  {
   "cell_type": "code",
   "execution_count": 111,
   "metadata": {},
   "outputs": [],
   "source": [
    "import pandas as pd\n",
    "import matplotlib.pyplot as plt\n",
    "import statsmodels.api as sm\n",
    "import seaborn as sn\n",
    "import numpy as np\n",
    "import pandas as pd\n",
    "from sklearn.model_selection import train_test_split\n",
    "from sklearn.linear_model import LogisticRegression\n",
    "from sklearn import metrics\n",
    "from sklearn.preprocessing import MinMaxScaler"
   ]
  },
  {
   "cell_type": "code",
   "execution_count": 65,
   "metadata": {},
   "outputs": [],
   "source": [
    "sales = pd.read_excel('./Relatas_ML_Assignment/sales-pipeline.xlsx')\n",
    "sales_conf = pd.read_excel('./Relatas_ML_Assignment/sales-pipeline.xlsx')"
   ]
  },
  {
   "cell_type": "code",
   "execution_count": 66,
   "metadata": {},
   "outputs": [],
   "source": [
    "sentiment = pd.read_excel('sentiment.xlsx')\n",
    "sentiment_conf = pd.read_excel('sentiment.xlsx')"
   ]
  },
  {
   "cell_type": "code",
   "execution_count": 67,
   "metadata": {},
   "outputs": [],
   "source": [
    "sentiment['InteractionDate'] = pd.to_datetime(sentiment['InteractionDate'])\n",
    "sentiment_conf['InteractionDate'] = pd.to_datetime(sentiment_conf['InteractionDate'])\n",
    "\n",
    "grouped = sentiment.set_index(['InteractionDate'])\n",
    "goruped_conf = sentiment_conf.set_index(['InteractionDate'])\n",
    "\n",
    "grouped.loc[grouped.sentiment == 'POSITIVE', 'positive'] = 1\n",
    "grouped['positive'] = grouped['positive'].fillna(0)\n",
    "grouped.loc[grouped.sentiment == 'NEGATIVE', 'negative'] = 1\n",
    "grouped['negative'] = grouped['negative'].fillna(0)\n",
    "\n",
    "goruped_conf.loc[(goruped_conf.sentiment == 'POSITIVE') &  (goruped_conf.conf>=0.95) , 'positive'] = 1\n",
    "goruped_conf.loc[(goruped_conf.sentiment == 'NEGATIVE') &  (goruped_conf.conf>=0.95) , 'negative'] = 1\n",
    "goruped_conf['positive'] = goruped_conf['positive'].fillna(0)\n",
    "goruped_conf['negative'] = goruped_conf['negative'].fillna(0)"
   ]
  },
  {
   "cell_type": "code",
   "execution_count": 68,
   "metadata": {},
   "outputs": [
    {
     "data": {
      "text/plain": [
       "1722.0"
      ]
     },
     "execution_count": 68,
     "metadata": {},
     "output_type": "execute_result"
    }
   ],
   "source": [
    "grouped.loc['2016-01-04 00:00:00':'2016-01-31 00:00:00'].query('positive == 1')['positive'].sum()"
   ]
  },
  {
   "cell_type": "code",
   "execution_count": 69,
   "metadata": {},
   "outputs": [],
   "source": [
    "for index,rows in sales.iterrows():\n",
    "    a = rows['ContactEmailID']\n",
    "    sales.loc[index,'postive']  = grouped.loc[rows['Created Date']:rows['Close Date']].query('positive == 1 and toEmailId==@a')['positive'].sum()\n",
    "    sales.loc[index,'negative']  = grouped.loc[rows['Created Date']:rows['Close Date']].query('negative == 1 and toEmailId==@a')['negative'].sum()"
   ]
  },
  {
   "cell_type": "code",
   "execution_count": 70,
   "metadata": {},
   "outputs": [],
   "source": [
    "for index,rows in sales_conf.iterrows():\n",
    "    a = rows['ContactEmailID']\n",
    "    sales_conf.loc[index,'postive']  = goruped_conf.loc[rows['Created Date']:rows['Close Date']].query('positive == 1 and toEmailId==@a')['positive'].sum()\n",
    "    sales_conf.loc[index,'negative']  = goruped_conf.loc[rows['Created Date']:rows['Close Date']].query('negative == 1 and toEmailId==@a')['negative'].sum()\n",
    "sales_conf['sum']  = sales_conf['postive'] + sales_conf['negative']\n",
    "sales['sum'] = sales['postive'] + sales['negative']\n",
    "sales_conf['diff']  = sales_conf['postive'] - sales_conf['negative']\n",
    "sales['diff'] = sales['postive'] - sales['negative']\n",
    "sales_conf.rename(columns={\"Close Date\":\"Close_Date\"} ,inplace=True)"
   ]
  },
  {
   "cell_type": "code",
   "execution_count": 74,
   "metadata": {},
   "outputs": [],
   "source": []
  },
  {
   "cell_type": "code",
   "execution_count": 71,
   "metadata": {},
   "outputs": [
    {
     "data": {
      "text/plain": [
       "1.027850321449068"
      ]
     },
     "execution_count": 71,
     "metadata": {},
     "output_type": "execute_result"
    }
   ],
   "source": [
    "sales.query('Deal_Stage == \"Lost\"')['postive'].sum()/sales.query('Deal_Stage == \"Lost\"')['negative'].sum()\n"
   ]
  },
  {
   "cell_type": "code",
   "execution_count": 72,
   "metadata": {},
   "outputs": [
    {
     "data": {
      "text/plain": [
       "1.0887095654491987"
      ]
     },
     "execution_count": 72,
     "metadata": {},
     "output_type": "execute_result"
    }
   ],
   "source": [
    "sales_conf.query('Deal_Stage == \"Won\"')['postive'].sum()/sales_conf.query('Deal_Stage == \"Won\"')['negative'].sum()\n"
   ]
  },
  {
   "cell_type": "code",
   "execution_count": 10,
   "metadata": {},
   "outputs": [
    {
     "data": {
      "text/plain": [
       "1.0293673305939512"
      ]
     },
     "execution_count": 10,
     "metadata": {},
     "output_type": "execute_result"
    }
   ],
   "source": [
    "sales.postive.sum()/sales.negative.sum()"
   ]
  },
  {
   "cell_type": "code",
   "execution_count": 11,
   "metadata": {
    "scrolled": true
   },
   "outputs": [
    {
     "data": {
      "text/plain": [
       "1.088785267144195"
      ]
     },
     "execution_count": 11,
     "metadata": {},
     "output_type": "execute_result"
    }
   ],
   "source": [
    "sales_conf.postive.sum()/sales_conf.negative.sum()"
   ]
  },
  {
   "cell_type": "code",
   "execution_count": 12,
   "metadata": {},
   "outputs": [
    {
     "data": {
      "text/plain": [
       "(             Close_Value  DateDiff   postive  negative       sum\n",
       " Close_Value     1.000000  0.018414  0.013732  0.012918  0.013369\n",
       " DateDiff        0.018414  1.000000  0.876297  0.870481  0.875360\n",
       " postive         0.013732  0.876297  1.000000  0.991487  0.998026\n",
       " negative        0.012918  0.870481  0.991487  1.000000  0.997707\n",
       " sum             0.013369  0.875360  0.998026  0.997707  1.000000,\n",
       "              Close_Value  DateDiff   postive  negative       sum\n",
       " Close_Value     1.000000  0.018414  0.013760  0.013773  0.013790\n",
       " DateDiff        0.018414  1.000000  0.878027  0.867824  0.874440\n",
       " postive         0.013760  0.878027  1.000000  0.993235  0.998330\n",
       " negative        0.013773  0.867824  0.993235  1.000000  0.998285\n",
       " sum             0.013790  0.874440  0.998330  0.998285  1.000000)"
      ]
     },
     "execution_count": 12,
     "metadata": {},
     "output_type": "execute_result"
    }
   ],
   "source": [
    "sales_conf.corr(method=\"pearson\"),sales.corr()"
   ]
  },
  {
   "cell_type": "code",
   "execution_count": 13,
   "metadata": {},
   "outputs": [],
   "source": [
    "scaler = MinMaxScaler()\n",
    "\n",
    "#sales_conf[['Close_Value', 'postive', 'negative','sum']] = scaler.fit_transform(sales_conf[['Close_Value', 'postive', 'negative','sum']])\n",
    "#sales[['Close_Value', 'postive', 'negative','sum']] = scaler.fit_transform(sales[['Close_Value', 'postive', 'negative','sum']])"
   ]
  },
  {
   "cell_type": "code",
   "execution_count": 14,
   "metadata": {},
   "outputs": [
    {
     "data": {
      "text/plain": [
       "(<AxesSubplot:xlabel='Close Date'>,\n",
       " <AxesSubplot:xlabel='Close Date'>,\n",
       " <AxesSubplot:xlabel='Close Date'>,\n",
       " <AxesSubplot:xlabel='Close Date'>)"
      ]
     },
     "execution_count": 14,
     "metadata": {},
     "output_type": "execute_result"
    },
    {
     "data": {
      "image/png": "[encoded data removed]",
      "text/plain": [
       "<Figure size 432x288 with 1 Axes>"
      ]
     },
     "metadata": {
      "needs_background": "light"
     },
     "output_type": "display_data"
    }
   ],
   "source": [
    "sales_conf.query('Deal_Stage == \"Won\"').set_index('Close Date').resample('M')['Close_Value'].sum().plot(),sales_conf.query('Deal_Stage == \"Won\"').set_index('Close Date').resample('M')['sum'].sum().plot(),sales_conf.query('Deal_Stage == \"Won\"').set_index('Close Date').resample('M')['postive'].sum().plot(),sales_conf.query('Deal_Stage == \"Won\"').set_index('Close Date').resample('M')['negative'].sum().plot(label='negative')"
   ]
  },
  {
   "cell_type": "code",
   "execution_count": 15,
   "metadata": {},
   "outputs": [
    {
     "data": {
      "text/plain": [
       "(<AxesSubplot:xlabel='Close Date'>, <AxesSubplot:xlabel='Close Date'>)"
      ]
     },
     "execution_count": 15,
     "metadata": {},
     "output_type": "execute_result"
    },
    {
     "data": {
      "image/png": "[encoded data removed]",
      "text/plain": [
       "<Figure size 432x288 with 1 Axes>"
      ]
     },
     "metadata": {
      "needs_background": "light"
     },
     "output_type": "display_data"
    }
   ],
   "source": [
    "sales_conf.query('Deal_Stage == \"Won\"').set_index('Close Date').resample('M')['Close_Value'].sum().plot(label='value'),sales_conf.query('Deal_Stage == \"Won\"').set_index('Close Date').resample('M')['sum'].sum().plot(label='sum')"
   ]
  },
  {
   "cell_type": "code",
   "execution_count": 16,
   "metadata": {
    "scrolled": true
   },
   "outputs": [
    {
     "data": {
      "text/plain": [
       "(<AxesSubplot:xlabel='Close Date'>, <AxesSubplot:xlabel='Close Date'>)"
      ]
     },
     "execution_count": 16,
     "metadata": {},
     "output_type": "execute_result"
    },
    {
     "data": {
      "image/png": "[encoded data removed]",
      "text/plain": [
       "<Figure size 432x288 with 1 Axes>"
      ]
     },
     "metadata": {
      "needs_background": "light"
     },
     "output_type": "display_data"
    }
   ],
   "source": [
    "sales.query('Deal_Stage == \"Won\"').set_index('Close Date').resample('M')['Close_Value'].sum().plot(label='value'),sales.query('Deal_Stage == \"Won\"').set_index('Close Date').resample('M')['sum'].sum().plot(label='sum')"
   ]
  },
  {
   "cell_type": "code",
   "execution_count": 47,
   "metadata": {},
   "outputs": [
    {
     "data": {
      "text/plain": [
       "(<AxesSubplot:xlabel='Close_Date'>, <AxesSubplot:xlabel='Close_Date'>)"
      ]
     },
     "execution_count": 47,
     "metadata": {},
     "output_type": "execute_result"
    },
    {
     "data": {
      "image/png": "[encoded data removed]",
      "text/plain": [
       "<Figure size 432x288 with 1 Axes>"
      ]
     },
     "metadata": {
      "needs_background": "light"
     },
     "output_type": "display_data"
    }
   ],
   "source": [
    "sales_conf.rename(columns={\"Close Date\":\"Close_Date\"} ,inplace=True)\n",
    "\n",
    "sales_conf.query('Deal_Stage == \"Won\" and Close_Date <= \"20190601\" ').set_index('Close_Date').resample('M')['Close_Value'].sum().plot(),sales_conf.query('Deal_Stage == \"Won\" and Close_Date < \"20190601\" ').set_index('Close_Date').resample('M')['sum'].sum().plot()"
   ]
  },
  {
   "cell_type": "code",
   "execution_count": 30,
   "metadata": {},
   "outputs": [
    {
     "data": {
      "text/plain": [
       "0      2016-05-24\n",
       "1      2016-11-02\n",
       "2      2016-12-07\n",
       "3      2016-09-11\n",
       "4      2016-09-18\n",
       "          ...    \n",
       "8795   2019-07-22\n",
       "8796   2019-05-26\n",
       "8797   2019-04-15\n",
       "8798   2019-05-16\n",
       "8799   2019-08-01\n",
       "Name: Close_Date, Length: 8800, dtype: datetime64[ns]"
      ]
     },
     "execution_count": 30,
     "metadata": {},
     "output_type": "execute_result"
    }
   ],
   "source": [
    "sales_conf.query('Deal_Stage == \"Won\" and Close_Date <= \"20190601\" ').set_index('Close Date').resample('M')['Close_Value'].sum().plot(),"
   ]
  },
  {
   "cell_type": "code",
   "execution_count": 33,
   "metadata": {
    "collapsed": true
   },
   "outputs": [
    {
     "data": {
      "text/html": [
       "<div>\n",
       "<style scoped>\n",
       "    .dataframe tbody tr th:only-of-type {\n",
       "        vertical-align: middle;\n",
       "    }\n",
       "\n",
       "    .dataframe tbody tr th {\n",
       "        vertical-align: top;\n",
       "    }\n",
       "\n",
       "    .dataframe thead th {\n",
       "        text-align: right;\n",
       "    }\n",
       "</style>\n",
       "<table border=\"1\" class=\"dataframe\">\n",
       "  <thead>\n",
       "    <tr style=\"text-align: right;\">\n",
       "      <th></th>\n",
       "      <th>Account</th>\n",
       "      <th>Opportunity_ID</th>\n",
       "      <th>Sales_Agent</th>\n",
       "      <th>SalesAgentEmailID</th>\n",
       "      <th>ContactEmailID</th>\n",
       "      <th>Deal_Stage</th>\n",
       "      <th>Product</th>\n",
       "      <th>Close_Value</th>\n",
       "      <th>Created Date</th>\n",
       "      <th>Close Date</th>\n",
       "      <th>DateDiff</th>\n",
       "      <th>postive</th>\n",
       "      <th>negative</th>\n",
       "      <th>sum</th>\n",
       "    </tr>\n",
       "  </thead>\n",
       "  <tbody>\n",
       "    <tr>\n",
       "      <th>0</th>\n",
       "      <td>Konex</td>\n",
       "      <td>3KR50X38</td>\n",
       "      <td>Corliss Cosme</td>\n",
       "      <td>corliss@piedpiper.com</td>\n",
       "      <td>delila@konex.com</td>\n",
       "      <td>Won</td>\n",
       "      <td>GTX Plus Basic</td>\n",
       "      <td>0.040231</td>\n",
       "      <td>2016-01-04</td>\n",
       "      <td>2016-05-24</td>\n",
       "      <td>141</td>\n",
       "      <td>0.169269</td>\n",
       "      <td>0.147528</td>\n",
       "      <td>0.158236</td>\n",
       "    </tr>\n",
       "    <tr>\n",
       "      <th>1</th>\n",
       "      <td>Finjob</td>\n",
       "      <td>YFS5KLJJ</td>\n",
       "      <td>Rosalina Dieter</td>\n",
       "      <td>rosalina@piedpiper.com</td>\n",
       "      <td>belinda@finjob.com</td>\n",
       "      <td>Won</td>\n",
       "      <td>MG Special</td>\n",
       "      <td>0.000231</td>\n",
       "      <td>2016-01-04</td>\n",
       "      <td>2016-11-02</td>\n",
       "      <td>303</td>\n",
       "      <td>0.201315</td>\n",
       "      <td>0.172249</td>\n",
       "      <td>0.186564</td>\n",
       "    </tr>\n",
       "    <tr>\n",
       "      <th>2</th>\n",
       "      <td>Kinnamplus</td>\n",
       "      <td>N0ONCYVZ</td>\n",
       "      <td>Donn Cantrell</td>\n",
       "      <td>donn@piedpiper.com</td>\n",
       "      <td>monte@kinnamplus.com</td>\n",
       "      <td>Lost</td>\n",
       "      <td>MG Special</td>\n",
       "      <td>0.033587</td>\n",
       "      <td>2016-01-06</td>\n",
       "      <td>2016-12-07</td>\n",
       "      <td>336</td>\n",
       "      <td>0.180772</td>\n",
       "      <td>0.181818</td>\n",
       "      <td>0.181303</td>\n",
       "    </tr>\n",
       "    <tr>\n",
       "      <th>3</th>\n",
       "      <td>Genco Pura Olive Oil Company</td>\n",
       "      <td>IBEUTCSW</td>\n",
       "      <td>James Ascencio</td>\n",
       "      <td>james@piedpiper.com</td>\n",
       "      <td>karole@gencopuraoliveoilcompany.com</td>\n",
       "      <td>In Progress</td>\n",
       "      <td>MG Advanced</td>\n",
       "      <td>0.033587</td>\n",
       "      <td>2016-01-06</td>\n",
       "      <td>2016-09-11</td>\n",
       "      <td>249</td>\n",
       "      <td>0.148726</td>\n",
       "      <td>0.144338</td>\n",
       "      <td>0.146499</td>\n",
       "    </tr>\n",
       "    <tr>\n",
       "      <th>4</th>\n",
       "      <td>Initech</td>\n",
       "      <td>G8AO5FA2</td>\n",
       "      <td>Wilburn Farren</td>\n",
       "      <td>wilburn@piedpiper.com</td>\n",
       "      <td>alejandro@initech.com</td>\n",
       "      <td>Lost</td>\n",
       "      <td>MG Advanced</td>\n",
       "      <td>0.015835</td>\n",
       "      <td>2016-01-06</td>\n",
       "      <td>2016-09-18</td>\n",
       "      <td>256</td>\n",
       "      <td>0.106820</td>\n",
       "      <td>0.106061</td>\n",
       "      <td>0.106435</td>\n",
       "    </tr>\n",
       "    <tr>\n",
       "      <th>...</th>\n",
       "      <td>...</td>\n",
       "      <td>...</td>\n",
       "      <td>...</td>\n",
       "      <td>...</td>\n",
       "      <td>...</td>\n",
       "      <td>...</td>\n",
       "      <td>...</td>\n",
       "      <td>...</td>\n",
       "      <td>...</td>\n",
       "      <td>...</td>\n",
       "      <td>...</td>\n",
       "      <td>...</td>\n",
       "      <td>...</td>\n",
       "      <td>...</td>\n",
       "    </tr>\n",
       "    <tr>\n",
       "      <th>8795</th>\n",
       "      <td>Vehement Capital Partners</td>\n",
       "      <td>2BD1SDBX</td>\n",
       "      <td>Jonathan Berthelot</td>\n",
       "      <td>jonathan@piedpiper.com</td>\n",
       "      <td>lavonia@vehementcapitalpartners.com</td>\n",
       "      <td>In Progress</td>\n",
       "      <td>GTX Basic</td>\n",
       "      <td>0.018248</td>\n",
       "      <td>2018-12-30</td>\n",
       "      <td>2019-07-22</td>\n",
       "      <td>204</td>\n",
       "      <td>0.110107</td>\n",
       "      <td>0.082137</td>\n",
       "      <td>0.095913</td>\n",
       "    </tr>\n",
       "    <tr>\n",
       "      <th>8796</th>\n",
       "      <td>Hottechi</td>\n",
       "      <td>F1NWH30L</td>\n",
       "      <td>Marty Freudenburg</td>\n",
       "      <td>marty@piedpiper.com</td>\n",
       "      <td>juliette@hottechi.com</td>\n",
       "      <td>In Progress</td>\n",
       "      <td>MG Advanced</td>\n",
       "      <td>0.107306</td>\n",
       "      <td>2018-12-30</td>\n",
       "      <td>2019-05-26</td>\n",
       "      <td>147</td>\n",
       "      <td>0.171734</td>\n",
       "      <td>0.185805</td>\n",
       "      <td>0.178875</td>\n",
       "    </tr>\n",
       "    <tr>\n",
       "      <th>8797</th>\n",
       "      <td>Umbrella Corporation</td>\n",
       "      <td>6KHIXTAD</td>\n",
       "      <td>Anna Snelling</td>\n",
       "      <td>anna@piedpiper.com</td>\n",
       "      <td>orpha@umbrellacorporation.com</td>\n",
       "      <td>In Progress</td>\n",
       "      <td>GTX Plus Pro</td>\n",
       "      <td>0.008661</td>\n",
       "      <td>2018-12-31</td>\n",
       "      <td>2019-04-15</td>\n",
       "      <td>105</td>\n",
       "      <td>0.067379</td>\n",
       "      <td>0.051834</td>\n",
       "      <td>0.059490</td>\n",
       "    </tr>\n",
       "    <tr>\n",
       "      <th>8798</th>\n",
       "      <td>Rundofase</td>\n",
       "      <td>BUOI3TBI</td>\n",
       "      <td>Gladys Colclough</td>\n",
       "      <td>gladys@piedpiper.com</td>\n",
       "      <td>crista@rundofase.com</td>\n",
       "      <td>In Progress</td>\n",
       "      <td>MG Special</td>\n",
       "      <td>0.107306</td>\n",
       "      <td>2018-12-31</td>\n",
       "      <td>2019-05-16</td>\n",
       "      <td>136</td>\n",
       "      <td>0.098603</td>\n",
       "      <td>0.093301</td>\n",
       "      <td>0.095913</td>\n",
       "    </tr>\n",
       "    <tr>\n",
       "      <th>8799</th>\n",
       "      <td>Y-corporation</td>\n",
       "      <td>0QMDTHBS</td>\n",
       "      <td>Jonathan Berthelot</td>\n",
       "      <td>jonathan@piedpiper.com</td>\n",
       "      <td>rosanne@y-corporation.com</td>\n",
       "      <td>In Progress</td>\n",
       "      <td>MG Special</td>\n",
       "      <td>0.032264</td>\n",
       "      <td>2018-12-31</td>\n",
       "      <td>2019-08-01</td>\n",
       "      <td>213</td>\n",
       "      <td>0.167625</td>\n",
       "      <td>0.148325</td>\n",
       "      <td>0.157831</td>\n",
       "    </tr>\n",
       "  </tbody>\n",
       "</table>\n",
       "<p>8800 rows × 14 columns</p>\n",
       "</div>"
      ],
      "text/plain": [
       "                           Account Opportunity_ID         Sales_Agent  \\\n",
       "0                            Konex       3KR50X38       Corliss Cosme   \n",
       "1                           Finjob       YFS5KLJJ     Rosalina Dieter   \n",
       "2                       Kinnamplus       N0ONCYVZ       Donn Cantrell   \n",
       "3     Genco Pura Olive Oil Company       IBEUTCSW      James Ascencio   \n",
       "4                          Initech       G8AO5FA2      Wilburn Farren   \n",
       "...                            ...            ...                 ...   \n",
       "8795     Vehement Capital Partners       2BD1SDBX  Jonathan Berthelot   \n",
       "8796                      Hottechi       F1NWH30L   Marty Freudenburg   \n",
       "8797          Umbrella Corporation       6KHIXTAD       Anna Snelling   \n",
       "8798                     Rundofase       BUOI3TBI    Gladys Colclough   \n",
       "8799                 Y-corporation       0QMDTHBS  Jonathan Berthelot   \n",
       "\n",
       "           SalesAgentEmailID                       ContactEmailID  \\\n",
       "0      corliss@piedpiper.com                     delila@konex.com   \n",
       "1     rosalina@piedpiper.com                   belinda@finjob.com   \n",
       "2         donn@piedpiper.com                 monte@kinnamplus.com   \n",
       "3        james@piedpiper.com  karole@gencopuraoliveoilcompany.com   \n",
       "4      wilburn@piedpiper.com                alejandro@initech.com   \n",
       "...                      ...                                  ...   \n",
       "8795  jonathan@piedpiper.com  lavonia@vehementcapitalpartners.com   \n",
       "8796     marty@piedpiper.com                juliette@hottechi.com   \n",
       "8797      anna@piedpiper.com        orpha@umbrellacorporation.com   \n",
       "8798    gladys@piedpiper.com                 crista@rundofase.com   \n",
       "8799  jonathan@piedpiper.com            rosanne@y-corporation.com   \n",
       "\n",
       "       Deal_Stage         Product  Close_Value Created Date Close Date  \\\n",
       "0             Won  GTX Plus Basic     0.040231   2016-01-04 2016-05-24   \n",
       "1             Won      MG Special     0.000231   2016-01-04 2016-11-02   \n",
       "2            Lost      MG Special     0.033587   2016-01-06 2016-12-07   \n",
       "3     In Progress     MG Advanced     0.033587   2016-01-06 2016-09-11   \n",
       "4            Lost     MG Advanced     0.015835   2016-01-06 2016-09-18   \n",
       "...           ...             ...          ...          ...        ...   \n",
       "8795  In Progress       GTX Basic     0.018248   2018-12-30 2019-07-22   \n",
       "8796  In Progress     MG Advanced     0.107306   2018-12-30 2019-05-26   \n",
       "8797  In Progress    GTX Plus Pro     0.008661   2018-12-31 2019-04-15   \n",
       "8798  In Progress      MG Special     0.107306   2018-12-31 2019-05-16   \n",
       "8799  In Progress      MG Special     0.032264   2018-12-31 2019-08-01   \n",
       "\n",
       "      DateDiff   postive  negative       sum  \n",
       "0          141  0.169269  0.147528  0.158236  \n",
       "1          303  0.201315  0.172249  0.186564  \n",
       "2          336  0.180772  0.181818  0.181303  \n",
       "3          249  0.148726  0.144338  0.146499  \n",
       "4          256  0.106820  0.106061  0.106435  \n",
       "...        ...       ...       ...       ...  \n",
       "8795       204  0.110107  0.082137  0.095913  \n",
       "8796       147  0.171734  0.185805  0.178875  \n",
       "8797       105  0.067379  0.051834  0.059490  \n",
       "8798       136  0.098603  0.093301  0.095913  \n",
       "8799       213  0.167625  0.148325  0.157831  \n",
       "\n",
       "[8800 rows x 14 columns]"
      ]
     },
     "execution_count": 33,
     "metadata": {},
     "output_type": "execute_result"
    }
   ],
   "source": [
    "sales"
   ]
  },
  {
   "cell_type": "code",
   "execution_count": 51,
   "metadata": {},
   "outputs": [
    {
     "data": {
      "text/plain": [
       "<AxesSubplot:xlabel='Close_Date'>"
      ]
     },
     "execution_count": 51,
     "metadata": {},
     "output_type": "execute_result"
    },
    {
     "data": {
      "image/png": "[encoded data removed]",
      "text/plain": [
       "<Figure size 432x288 with 1 Axes>"
      ]
     },
     "metadata": {
      "needs_background": "light"
     },
     "output_type": "display_data"
    }
   ],
   "source": [
    "sales_conf.query('Deal_Stage == \"Won\" and Close_Date <= \"20190601\" ').resample('W-Mon', on='Close_Date').sum().reset_index().sort_values(by='Close_Date').set_index('Close_Date').plot()"
   ]
  },
  {
   "cell_type": "code",
   "execution_count": 86,
   "metadata": {},
   "outputs": [
    {
     "data": {
      "text/plain": [
       "<AxesSubplot:xlabel='Close_Date'>"
      ]
     },
     "execution_count": 86,
     "metadata": {},
     "output_type": "execute_result"
    },
    {
     "data": {
      "image/png": "[encoded data removed]",
      "text/plain": [
       "<Figure size 432x288 with 1 Axes>"
      ]
     },
     "metadata": {
      "needs_background": "light"
     },
     "output_type": "display_data"
    }
   ],
   "source": [
    "sales_conf.query('Deal_Stage == \"Won\" and Close_Date <= \"20190601\"').resample('W-Mon', on='Close_Date').sum().reset_index().sort_values(by='Close_Date').set_index('Close_Date')['sum'].plot()"
   ]
  },
  {
   "cell_type": "code",
   "execution_count": 82,
   "metadata": {},
   "outputs": [
    {
     "data": {
      "text/plain": [
       "<AxesSubplot:xlabel='Close_Date'>"
      ]
     },
     "execution_count": 82,
     "metadata": {},
     "output_type": "execute_result"
    },
    {
     "data": {
      "image/png": "[encoded data removed]",
      "text/plain": [
       "<Figure size 432x288 with 1 Axes>"
      ]
     },
     "metadata": {
      "needs_background": "light"
     },
     "output_type": "display_data"
    }
   ],
   "source": [
    "sales_conf.query('Deal_Stage == \"Lost\" and Close_Date < \"20190601\"').set_index('Close_Date').resample('M')['sum'].sum().plot()"
   ]
  },
  {
   "cell_type": "code",
   "execution_count": 78,
   "metadata": {},
   "outputs": [
    {
     "data": {
      "text/html": [
       "<div>\n",
       "<style scoped>\n",
       "    .dataframe tbody tr th:only-of-type {\n",
       "        vertical-align: middle;\n",
       "    }\n",
       "\n",
       "    .dataframe tbody tr th {\n",
       "        vertical-align: top;\n",
       "    }\n",
       "\n",
       "    .dataframe thead th {\n",
       "        text-align: right;\n",
       "    }\n",
       "</style>\n",
       "<table border=\"1\" class=\"dataframe\">\n",
       "  <thead>\n",
       "    <tr style=\"text-align: right;\">\n",
       "      <th></th>\n",
       "      <th>Close_Value</th>\n",
       "      <th>DateDiff</th>\n",
       "      <th>postive</th>\n",
       "      <th>negative</th>\n",
       "      <th>sum</th>\n",
       "      <th>diff</th>\n",
       "    </tr>\n",
       "  </thead>\n",
       "  <tbody>\n",
       "    <tr>\n",
       "      <th>Close_Value</th>\n",
       "      <td>1.000000</td>\n",
       "      <td>0.018414</td>\n",
       "      <td>0.013732</td>\n",
       "      <td>0.012918</td>\n",
       "      <td>0.013369</td>\n",
       "      <td>0.012033</td>\n",
       "    </tr>\n",
       "    <tr>\n",
       "      <th>DateDiff</th>\n",
       "      <td>0.018414</td>\n",
       "      <td>1.000000</td>\n",
       "      <td>0.876297</td>\n",
       "      <td>0.870481</td>\n",
       "      <td>0.875360</td>\n",
       "      <td>0.472273</td>\n",
       "    </tr>\n",
       "    <tr>\n",
       "      <th>postive</th>\n",
       "      <td>0.013732</td>\n",
       "      <td>0.876297</td>\n",
       "      <td>1.000000</td>\n",
       "      <td>0.991487</td>\n",
       "      <td>0.998026</td>\n",
       "      <td>0.550971</td>\n",
       "    </tr>\n",
       "    <tr>\n",
       "      <th>negative</th>\n",
       "      <td>0.012918</td>\n",
       "      <td>0.870481</td>\n",
       "      <td>0.991487</td>\n",
       "      <td>1.000000</td>\n",
       "      <td>0.997707</td>\n",
       "      <td>0.437621</td>\n",
       "    </tr>\n",
       "    <tr>\n",
       "      <th>sum</th>\n",
       "      <td>0.013369</td>\n",
       "      <td>0.875360</td>\n",
       "      <td>0.998026</td>\n",
       "      <td>0.997707</td>\n",
       "      <td>1.000000</td>\n",
       "      <td>0.497467</td>\n",
       "    </tr>\n",
       "    <tr>\n",
       "      <th>diff</th>\n",
       "      <td>0.012033</td>\n",
       "      <td>0.472273</td>\n",
       "      <td>0.550971</td>\n",
       "      <td>0.437621</td>\n",
       "      <td>0.497467</td>\n",
       "      <td>1.000000</td>\n",
       "    </tr>\n",
       "  </tbody>\n",
       "</table>\n",
       "</div>"
      ],
      "text/plain": [
       "             Close_Value  DateDiff   postive  negative       sum      diff\n",
       "Close_Value     1.000000  0.018414  0.013732  0.012918  0.013369  0.012033\n",
       "DateDiff        0.018414  1.000000  0.876297  0.870481  0.875360  0.472273\n",
       "postive         0.013732  0.876297  1.000000  0.991487  0.998026  0.550971\n",
       "negative        0.012918  0.870481  0.991487  1.000000  0.997707  0.437621\n",
       "sum             0.013369  0.875360  0.998026  0.997707  1.000000  0.497467\n",
       "diff            0.012033  0.472273  0.550971  0.437621  0.497467  1.000000"
      ]
     },
     "execution_count": 78,
     "metadata": {},
     "output_type": "execute_result"
    }
   ],
   "source": [
    "sales_conf.corr(method = 'pearson')"
   ]
  },
  {
   "cell_type": "code",
   "execution_count": 94,
   "metadata": {},
   "outputs": [
    {
     "data": {
      "text/plain": [
       "<AxesSubplot:xlabel='Close_Date'>"
      ]
     },
     "execution_count": 94,
     "metadata": {},
     "output_type": "execute_result"
    },
    {
     "data": {
      "image/png": "[encoded data removed]",
      "text/plain": [
       "<Figure size 432x288 with 1 Axes>"
      ]
     },
     "metadata": {
      "needs_background": "light"
     },
     "output_type": "display_data"
    }
   ],
   "source": [
    "sales_conf.query('Deal_Stage == \"In Progress\" and Close_Date > \"20190601\"').set_index('Close_Date').resample('M')['sum'].sum().plot()"
   ]
  },
  {
   "cell_type": "code",
   "execution_count": 88,
   "metadata": {
    "collapsed": true
   },
   "outputs": [
    {
     "data": {
      "text/html": [
       "<div>\n",
       "<style scoped>\n",
       "    .dataframe tbody tr th:only-of-type {\n",
       "        vertical-align: middle;\n",
       "    }\n",
       "\n",
       "    .dataframe tbody tr th {\n",
       "        vertical-align: top;\n",
       "    }\n",
       "\n",
       "    .dataframe thead th {\n",
       "        text-align: right;\n",
       "    }\n",
       "</style>\n",
       "<table border=\"1\" class=\"dataframe\">\n",
       "  <thead>\n",
       "    <tr style=\"text-align: right;\">\n",
       "      <th></th>\n",
       "      <th>Account</th>\n",
       "      <th>Opportunity_ID</th>\n",
       "      <th>Sales_Agent</th>\n",
       "      <th>SalesAgentEmailID</th>\n",
       "      <th>ContactEmailID</th>\n",
       "      <th>Deal_Stage</th>\n",
       "      <th>Product</th>\n",
       "      <th>Close_Value</th>\n",
       "      <th>Created Date</th>\n",
       "      <th>Close_Date</th>\n",
       "      <th>DateDiff</th>\n",
       "      <th>postive</th>\n",
       "      <th>negative</th>\n",
       "      <th>sum</th>\n",
       "      <th>diff</th>\n",
       "    </tr>\n",
       "  </thead>\n",
       "  <tbody>\n",
       "    <tr>\n",
       "      <th>0</th>\n",
       "      <td>Konex</td>\n",
       "      <td>3KR50X38</td>\n",
       "      <td>Corliss Cosme</td>\n",
       "      <td>corliss@piedpiper.com</td>\n",
       "      <td>delila@konex.com</td>\n",
       "      <td>Won</td>\n",
       "      <td>GTX Plus Basic</td>\n",
       "      <td>1255</td>\n",
       "      <td>2016-01-04</td>\n",
       "      <td>2016-05-24</td>\n",
       "      <td>141</td>\n",
       "      <td>156.0</td>\n",
       "      <td>134.0</td>\n",
       "      <td>290.0</td>\n",
       "      <td>22.0</td>\n",
       "    </tr>\n",
       "    <tr>\n",
       "      <th>1</th>\n",
       "      <td>Finjob</td>\n",
       "      <td>YFS5KLJJ</td>\n",
       "      <td>Rosalina Dieter</td>\n",
       "      <td>rosalina@piedpiper.com</td>\n",
       "      <td>belinda@finjob.com</td>\n",
       "      <td>Won</td>\n",
       "      <td>MG Special</td>\n",
       "      <td>45</td>\n",
       "      <td>2016-01-04</td>\n",
       "      <td>2016-11-02</td>\n",
       "      <td>303</td>\n",
       "      <td>194.0</td>\n",
       "      <td>165.0</td>\n",
       "      <td>359.0</td>\n",
       "      <td>29.0</td>\n",
       "    </tr>\n",
       "    <tr>\n",
       "      <th>2</th>\n",
       "      <td>Kinnamplus</td>\n",
       "      <td>N0ONCYVZ</td>\n",
       "      <td>Donn Cantrell</td>\n",
       "      <td>donn@piedpiper.com</td>\n",
       "      <td>monte@kinnamplus.com</td>\n",
       "      <td>Lost</td>\n",
       "      <td>MG Special</td>\n",
       "      <td>1054</td>\n",
       "      <td>2016-01-06</td>\n",
       "      <td>2016-12-07</td>\n",
       "      <td>336</td>\n",
       "      <td>162.0</td>\n",
       "      <td>172.0</td>\n",
       "      <td>334.0</td>\n",
       "      <td>-10.0</td>\n",
       "    </tr>\n",
       "    <tr>\n",
       "      <th>3</th>\n",
       "      <td>Genco Pura Olive Oil Company</td>\n",
       "      <td>IBEUTCSW</td>\n",
       "      <td>James Ascencio</td>\n",
       "      <td>james@piedpiper.com</td>\n",
       "      <td>karole@gencopuraoliveoilcompany.com</td>\n",
       "      <td>In Progress</td>\n",
       "      <td>MG Advanced</td>\n",
       "      <td>1054</td>\n",
       "      <td>2016-01-06</td>\n",
       "      <td>2016-09-11</td>\n",
       "      <td>249</td>\n",
       "      <td>149.0</td>\n",
       "      <td>124.0</td>\n",
       "      <td>273.0</td>\n",
       "      <td>25.0</td>\n",
       "    </tr>\n",
       "    <tr>\n",
       "      <th>4</th>\n",
       "      <td>Initech</td>\n",
       "      <td>G8AO5FA2</td>\n",
       "      <td>Wilburn Farren</td>\n",
       "      <td>wilburn@piedpiper.com</td>\n",
       "      <td>alejandro@initech.com</td>\n",
       "      <td>Lost</td>\n",
       "      <td>MG Advanced</td>\n",
       "      <td>517</td>\n",
       "      <td>2016-01-06</td>\n",
       "      <td>2016-09-18</td>\n",
       "      <td>256</td>\n",
       "      <td>93.0</td>\n",
       "      <td>96.0</td>\n",
       "      <td>189.0</td>\n",
       "      <td>-3.0</td>\n",
       "    </tr>\n",
       "    <tr>\n",
       "      <th>...</th>\n",
       "      <td>...</td>\n",
       "      <td>...</td>\n",
       "      <td>...</td>\n",
       "      <td>...</td>\n",
       "      <td>...</td>\n",
       "      <td>...</td>\n",
       "      <td>...</td>\n",
       "      <td>...</td>\n",
       "      <td>...</td>\n",
       "      <td>...</td>\n",
       "      <td>...</td>\n",
       "      <td>...</td>\n",
       "      <td>...</td>\n",
       "      <td>...</td>\n",
       "      <td>...</td>\n",
       "    </tr>\n",
       "    <tr>\n",
       "      <th>8795</th>\n",
       "      <td>Vehement Capital Partners</td>\n",
       "      <td>2BD1SDBX</td>\n",
       "      <td>Jonathan Berthelot</td>\n",
       "      <td>jonathan@piedpiper.com</td>\n",
       "      <td>lavonia@vehementcapitalpartners.com</td>\n",
       "      <td>In Progress</td>\n",
       "      <td>GTX Basic</td>\n",
       "      <td>590</td>\n",
       "      <td>2018-12-30</td>\n",
       "      <td>2019-07-22</td>\n",
       "      <td>204</td>\n",
       "      <td>94.0</td>\n",
       "      <td>71.0</td>\n",
       "      <td>165.0</td>\n",
       "      <td>23.0</td>\n",
       "    </tr>\n",
       "    <tr>\n",
       "      <th>8796</th>\n",
       "      <td>Hottechi</td>\n",
       "      <td>F1NWH30L</td>\n",
       "      <td>Marty Freudenburg</td>\n",
       "      <td>marty@piedpiper.com</td>\n",
       "      <td>juliette@hottechi.com</td>\n",
       "      <td>In Progress</td>\n",
       "      <td>MG Advanced</td>\n",
       "      <td>3284</td>\n",
       "      <td>2018-12-30</td>\n",
       "      <td>2019-05-26</td>\n",
       "      <td>147</td>\n",
       "      <td>161.0</td>\n",
       "      <td>154.0</td>\n",
       "      <td>315.0</td>\n",
       "      <td>7.0</td>\n",
       "    </tr>\n",
       "    <tr>\n",
       "      <th>8797</th>\n",
       "      <td>Umbrella Corporation</td>\n",
       "      <td>6KHIXTAD</td>\n",
       "      <td>Anna Snelling</td>\n",
       "      <td>anna@piedpiper.com</td>\n",
       "      <td>orpha@umbrellacorporation.com</td>\n",
       "      <td>In Progress</td>\n",
       "      <td>GTX Plus Pro</td>\n",
       "      <td>300</td>\n",
       "      <td>2018-12-31</td>\n",
       "      <td>2019-04-15</td>\n",
       "      <td>105</td>\n",
       "      <td>67.0</td>\n",
       "      <td>40.0</td>\n",
       "      <td>107.0</td>\n",
       "      <td>27.0</td>\n",
       "    </tr>\n",
       "    <tr>\n",
       "      <th>8798</th>\n",
       "      <td>Rundofase</td>\n",
       "      <td>BUOI3TBI</td>\n",
       "      <td>Gladys Colclough</td>\n",
       "      <td>gladys@piedpiper.com</td>\n",
       "      <td>crista@rundofase.com</td>\n",
       "      <td>In Progress</td>\n",
       "      <td>MG Special</td>\n",
       "      <td>3284</td>\n",
       "      <td>2018-12-31</td>\n",
       "      <td>2019-05-16</td>\n",
       "      <td>136</td>\n",
       "      <td>89.0</td>\n",
       "      <td>91.0</td>\n",
       "      <td>180.0</td>\n",
       "      <td>-2.0</td>\n",
       "    </tr>\n",
       "    <tr>\n",
       "      <th>8799</th>\n",
       "      <td>Y-corporation</td>\n",
       "      <td>0QMDTHBS</td>\n",
       "      <td>Jonathan Berthelot</td>\n",
       "      <td>jonathan@piedpiper.com</td>\n",
       "      <td>rosanne@y-corporation.com</td>\n",
       "      <td>In Progress</td>\n",
       "      <td>MG Special</td>\n",
       "      <td>1014</td>\n",
       "      <td>2018-12-31</td>\n",
       "      <td>2019-08-01</td>\n",
       "      <td>213</td>\n",
       "      <td>163.0</td>\n",
       "      <td>130.0</td>\n",
       "      <td>293.0</td>\n",
       "      <td>33.0</td>\n",
       "    </tr>\n",
       "  </tbody>\n",
       "</table>\n",
       "<p>8800 rows × 15 columns</p>\n",
       "</div>"
      ],
      "text/plain": [
       "                           Account Opportunity_ID         Sales_Agent  \\\n",
       "0                            Konex       3KR50X38       Corliss Cosme   \n",
       "1                           Finjob       YFS5KLJJ     Rosalina Dieter   \n",
       "2                       Kinnamplus       N0ONCYVZ       Donn Cantrell   \n",
       "3     Genco Pura Olive Oil Company       IBEUTCSW      James Ascencio   \n",
       "4                          Initech       G8AO5FA2      Wilburn Farren   \n",
       "...                            ...            ...                 ...   \n",
       "8795     Vehement Capital Partners       2BD1SDBX  Jonathan Berthelot   \n",
       "8796                      Hottechi       F1NWH30L   Marty Freudenburg   \n",
       "8797          Umbrella Corporation       6KHIXTAD       Anna Snelling   \n",
       "8798                     Rundofase       BUOI3TBI    Gladys Colclough   \n",
       "8799                 Y-corporation       0QMDTHBS  Jonathan Berthelot   \n",
       "\n",
       "           SalesAgentEmailID                       ContactEmailID  \\\n",
       "0      corliss@piedpiper.com                     delila@konex.com   \n",
       "1     rosalina@piedpiper.com                   belinda@finjob.com   \n",
       "2         donn@piedpiper.com                 monte@kinnamplus.com   \n",
       "3        james@piedpiper.com  karole@gencopuraoliveoilcompany.com   \n",
       "4      wilburn@piedpiper.com                alejandro@initech.com   \n",
       "...                      ...                                  ...   \n",
       "8795  jonathan@piedpiper.com  lavonia@vehementcapitalpartners.com   \n",
       "8796     marty@piedpiper.com                juliette@hottechi.com   \n",
       "8797      anna@piedpiper.com        orpha@umbrellacorporation.com   \n",
       "8798    gladys@piedpiper.com                 crista@rundofase.com   \n",
       "8799  jonathan@piedpiper.com            rosanne@y-corporation.com   \n",
       "\n",
       "       Deal_Stage         Product  Close_Value Created Date Close_Date  \\\n",
       "0             Won  GTX Plus Basic         1255   2016-01-04 2016-05-24   \n",
       "1             Won      MG Special           45   2016-01-04 2016-11-02   \n",
       "2            Lost      MG Special         1054   2016-01-06 2016-12-07   \n",
       "3     In Progress     MG Advanced         1054   2016-01-06 2016-09-11   \n",
       "4            Lost     MG Advanced          517   2016-01-06 2016-09-18   \n",
       "...           ...             ...          ...          ...        ...   \n",
       "8795  In Progress       GTX Basic          590   2018-12-30 2019-07-22   \n",
       "8796  In Progress     MG Advanced         3284   2018-12-30 2019-05-26   \n",
       "8797  In Progress    GTX Plus Pro          300   2018-12-31 2019-04-15   \n",
       "8798  In Progress      MG Special         3284   2018-12-31 2019-05-16   \n",
       "8799  In Progress      MG Special         1014   2018-12-31 2019-08-01   \n",
       "\n",
       "      DateDiff  postive  negative    sum  diff  \n",
       "0          141    156.0     134.0  290.0  22.0  \n",
       "1          303    194.0     165.0  359.0  29.0  \n",
       "2          336    162.0     172.0  334.0 -10.0  \n",
       "3          249    149.0     124.0  273.0  25.0  \n",
       "4          256     93.0      96.0  189.0  -3.0  \n",
       "...        ...      ...       ...    ...   ...  \n",
       "8795       204     94.0      71.0  165.0  23.0  \n",
       "8796       147    161.0     154.0  315.0   7.0  \n",
       "8797       105     67.0      40.0  107.0  27.0  \n",
       "8798       136     89.0      91.0  180.0  -2.0  \n",
       "8799       213    163.0     130.0  293.0  33.0  \n",
       "\n",
       "[8800 rows x 15 columns]"
      ]
     },
     "execution_count": 88,
     "metadata": {},
     "output_type": "execute_result"
    }
   ],
   "source": [
    "sales_conf"
   ]
  },
  {
   "cell_type": "code",
   "execution_count": 104,
   "metadata": {},
   "outputs": [],
   "source": [
    "X = sales_conf.query( 'Deal_Stage == \"Won\" or Deal_Stage == \"Lost\"' )['diff'].values.reshape(-1,1)\n",
    "Y = sales_conf.query( 'Deal_Stage == \"Won\" or Deal_Stage == \"Lost\" ')['Deal_Stage'].values.reshape(-1,1)"
   ]
  },
  {
   "cell_type": "code",
   "execution_count": 105,
   "metadata": {},
   "outputs": [],
   "source": [
    "X_train,X_test,y_train,y_test = train_test_split(X,Y,test_size=0.25,random_state=0)"
   ]
  },
  {
   "cell_type": "code",
   "execution_count": 106,
   "metadata": {},
   "outputs": [
    {
     "name": "stderr",
     "output_type": "stream",
     "text": [
      "/home/ai/.virtualenvs/face_deep/lib/python3.6/site-packages/sklearn/utils/validation.py:72: DataConversionWarning: A column-vector y was passed when a 1d array was expected. Please change the shape of y to (n_samples, ), for example using ravel().\n",
      "  return f(**kwargs)\n"
     ]
    }
   ],
   "source": [
    "logistic_regression= LogisticRegression()\n",
    "logistic_regression.fit(X_train,y_train)\n",
    "y_pred=logistic_regression.predict(X_test)"
   ]
  },
  {
   "cell_type": "code",
   "execution_count": 112,
   "metadata": {},
   "outputs": [
    {
     "data": {
      "text/plain": [
       "<AxesSubplot:xlabel='Predicted', ylabel='Actual'>"
      ]
     },
     "execution_count": 112,
     "metadata": {},
     "output_type": "execute_result"
    },
    {
     "data": {
      "image/png": "[encoded data removed]",
      "text/plain": [
       "<Figure size 432x288 with 2 Axes>"
      ]
     },
     "metadata": {
      "needs_background": "light"
     },
     "output_type": "display_data"
    }
   ],
   "source": [
    "confusion_matrix = pd.crosstab(y_test.reshape(-1), y_pred.reshape(-1), rownames=['Actual'], colnames=['Predicted'])\n",
    "sn.heatmap(confusion_matrix, annot=True)"
   ]
  },
  {
   "cell_type": "code",
   "execution_count": 113,
   "metadata": {},
   "outputs": [
    {
     "name": "stdout",
     "output_type": "stream",
     "text": [
      "Accuracy:  0.6418355184743743\n"
     ]
    }
   ],
   "source": [
    "print('Accuracy: ',metrics.accuracy_score(y_test, y_pred))\n",
    "plt.show()"
   ]
  },
  {
   "cell_type": "code",
   "execution_count": 128,
   "metadata": {},
   "outputs": [
    {
     "data": {
      "text/plain": [
       "(6711, 1)"
      ]
     },
     "execution_count": 128,
     "metadata": {},
     "output_type": "execute_result"
    }
   ],
   "source": [
    "sales_conf"
   ]
  },
  {
   "cell_type": "code",
   "execution_count": 131,
   "metadata": {},
   "outputs": [
    {
     "data": {
      "text/plain": [
       "Account              4238\n",
       "Opportunity_ID       4238\n",
       "Sales_Agent          4238\n",
       "SalesAgentEmailID    4238\n",
       "ContactEmailID       4238\n",
       "Deal_Stage           4238\n",
       "Product              4238\n",
       "Close_Value          4238\n",
       "Created Date         4238\n",
       "Close_Date           4238\n",
       "DateDiff             4238\n",
       "postive              4238\n",
       "negative             4238\n",
       "sum                  4238\n",
       "diff                 4238\n",
       "dtype: int64"
      ]
     },
     "execution_count": 131,
     "metadata": {},
     "output_type": "execute_result"
    }
   ],
   "source": [
    "sales_conf.query( 'Deal_Stage == \"Won\"' ).count()"
   ]
  },
  {
   "cell_type": "code",
   "execution_count": null,
   "metadata": {},
   "outputs": [],
   "source": []
  }
 ],
 "metadata": {
  "kernelspec": {
   "display_name": "face_deep",
   "language": "python",
   "name": "face_deep"
  },
  "language_info": {
   "codemirror_mode": {
    "name": "ipython",
    "version": 3
   },
   "file_extension": ".py",
   "mimetype": "text/x-python",
   "name": "python",
   "nbconvert_exporter": "python",
   "pygments_lexer": "ipython3",
   "version": "3.6.9"
  }
 },
 "nbformat": 4,
 "nbformat_minor": 4
}
